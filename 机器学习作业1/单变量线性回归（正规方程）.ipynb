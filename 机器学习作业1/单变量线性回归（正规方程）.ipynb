{
 "cells": [
  {
   "cell_type": "code",
   "execution_count": 17,
   "metadata": {},
   "outputs": [
    {
     "data": {
      "text/plain": [
       "array([[-3.89578088],\n",
       "       [ 1.19303364]])"
      ]
     },
     "execution_count": 17,
     "metadata": {},
     "output_type": "execute_result"
    }
   ],
   "source": [
    "import pandas as pd \n",
    "import numpy as np \n",
    "import matplotlib.pyplot as plt\n",
    "\n",
    "data = pd.read_csv('ex1data1.txt',names=['population','profit'])\n",
    "data.insert(0,'ones',1)\n",
    "X = data.iloc[:,:2]\n",
    "y = data.iloc[:,-1]\n",
    "X = np.array(X)\n",
    "y = np.array(y)\n",
    "y = y.reshape(97,1)\n",
    "\n",
    "def normalEqn(X,y):\n",
    "    theta = np.linalg.inv(X.T@X)@X.T@y  np.linalg.inv通过\n",
    "    return theta\n",
    "normalEqn(X,y)"
   ]
  }
 ],
 "metadata": {
  "kernelspec": {
   "display_name": "Python 3",
   "language": "python",
   "name": "python3"
  },
  "language_info": {
   "codemirror_mode": {
    "name": "ipython",
    "version": 3
   },
   "file_extension": ".py",
   "mimetype": "text/x-python",
   "name": "python",
   "nbconvert_exporter": "python",
   "pygments_lexer": "ipython3",
   "version": "3.7.0"
  }
 },
 "nbformat": 4,
 "nbformat_minor": 2
}
