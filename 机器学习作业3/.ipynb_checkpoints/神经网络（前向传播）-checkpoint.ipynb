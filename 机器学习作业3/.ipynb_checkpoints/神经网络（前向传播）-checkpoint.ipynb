{
 "cells": [
  {
   "cell_type": "markdown",
   "metadata": {},
   "source": [
    "## 吴恩达机器学习习题三：神经网络<br><br>\n",
    "- 使用神经网络的前向传播来实现手写数字识别（theta已训练好）"
   ]
  },
  {
   "cell_type": "markdown",
   "metadata": {},
   "source": [
    "![](./IMG_3345.JPG)"
   ]
  },
  {
   "cell_type": "code",
   "execution_count": 1,
   "metadata": {},
   "outputs": [],
   "source": [
    "import numpy as np\n",
    "import scipy.io as sio"
   ]
  },
  {
   "cell_type": "code",
   "execution_count": 2,
   "metadata": {},
   "outputs": [],
   "source": [
    "#读取数据\n",
    "data = sio.loadmat('ex3data1.mat')\n",
    "X1 = data['X']  \n",
    "y1 = data['y']\n",
    "X = np.insert(X1,0,values=1,axis=1)  #X（5000，401）\n",
    "y = y1.flatten()                     #y（5000，）\n",
    "theta = sio.loadmat('ex3weights.mat')  #读取已经训练好的theta,返回一个字典\n",
    "theta1 = theta['Theta1']  #theta1（25，401）\n",
    "theta2 = theta['Theta2']  #theta2（10，26）"
   ]
  },
  {
   "cell_type": "code",
   "execution_count": 3,
   "metadata": {},
   "outputs": [],
   "source": [
    "def sigmoid(z):\n",
    "    return 1/(1+np.exp(-z))"
   ]
  },
  {
   "cell_type": "code",
   "execution_count": 4,
   "metadata": {},
   "outputs": [],
   "source": [
    "#a2 = sigmoid(a1@theta1)\n",
    "a1 = X\n",
    "z2 = X@theta1.T  \n",
    "a2 = sigmoid(z2)  #a2(5000,25)\n",
    "a2 = np.insert(a2,0,values=1,axis=1)  #加上偏置单元,a2(5000,26)\n",
    "z3 = a2@theta2.T\n",
    "a3 = sigmoid(z3)  #a3(5000,10),每一列代表对应数字"
   ]
  },
  {
   "cell_type": "code",
   "execution_count": 5,
   "metadata": {},
   "outputs": [
    {
     "name": "stdout",
     "output_type": "stream",
     "text": [
      "0.9752\n"
     ]
    }
   ],
   "source": [
    "h_argmax = np.argmax(a3,axis=1)+1  #取出a3每行中元素最大值所对应的索引\n",
    "acc = np.mean(h_argmax==y)\n",
    "print(acc)"
   ]
  }
 ],
 "metadata": {
  "kernelspec": {
   "display_name": "Python 3",
   "language": "python",
   "name": "python3"
  },
  "language_info": {
   "codemirror_mode": {
    "name": "ipython",
    "version": 3
   },
   "file_extension": ".py",
   "mimetype": "text/x-python",
   "name": "python",
   "nbconvert_exporter": "python",
   "pygments_lexer": "ipython3",
   "version": "3.7.0"
  }
 },
 "nbformat": 4,
 "nbformat_minor": 2
}
