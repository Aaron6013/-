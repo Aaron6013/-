{
 "cells": [
  {
   "cell_type": "markdown",
   "metadata": {},
   "source": [
    "## 吴恩达机器学习习题六：支持向量机（垃圾邮件处理）<br><br>\n",
    "- 判断一封邮件是否为垃圾邮件"
   ]
  },
  {
   "cell_type": "code",
   "execution_count": 1,
   "metadata": {},
   "outputs": [],
   "source": [
    "import scipy.io as sio\n",
    "from sklearn.svm import SVC"
   ]
  },
  {
   "cell_type": "code",
   "execution_count": 2,
   "metadata": {},
   "outputs": [],
   "source": [
    "#读取数据\n",
    "data_train = sio.loadmat('data/spamTrain.mat')\n",
    "X_train = data_train['X']  #(4000,1899)\n",
    "y_train = data_train['y']  #(4000,1)\n",
    "\n",
    "data_test = sio.loadmat('data/spamTest.mat')\n",
    "X_test = data_test['Xtest']  #(1000,1899)\n",
    "y_test = data_test['ytest']  #(1000,1)"
   ]
  },
  {
   "cell_type": "code",
   "execution_count": 3,
   "metadata": {},
   "outputs": [
    {
     "name": "stdout",
     "output_type": "stream",
     "text": [
      "0.99 0.03\n"
     ]
    }
   ],
   "source": [
    "#寻找最优C\n",
    "Cvalues = [3, 10, 30, 100,0.01, 0.03, 0.1, 0.3,1 ] \n",
    "best_score = 0\n",
    "Cv = 0\n",
    "for Cvalue in Cvalues:\n",
    "    svc = SVC(C=Cvalue,kernel='linear')\n",
    "    svc.fit(X_train,y_train.flatten())\n",
    "    score = svc.score(X_test,y_test.flatten())\n",
    "    if score > best_score:\n",
    "        best_score = score\n",
    "        Cv = Cvalue\n",
    "print(best_score,Cv)"
   ]
  },
  {
   "cell_type": "code",
   "execution_count": 4,
   "metadata": {},
   "outputs": [
    {
     "name": "stdout",
     "output_type": "stream",
     "text": [
      "0.99425 0.996\n"
     ]
    }
   ],
   "source": [
    "svc1 = SVC(C=0.03,kernel='linear')\n",
    "svc1.fit(X_train,y_train.flatten())\n",
    "train_score = svc1.score(X_train,y_train.flatten())\n",
    "svc1.fit(X_test,y_test.flatten())\n",
    "test_score = svc1.score(X_test,y_test.flatten())\n",
    "print(train_score,test_score)"
   ]
  }
 ],
 "metadata": {
  "kernelspec": {
   "display_name": "Python 3",
   "language": "python",
   "name": "python3"
  },
  "language_info": {
   "codemirror_mode": {
    "name": "ipython",
    "version": 3
   },
   "file_extension": ".py",
   "mimetype": "text/x-python",
   "name": "python",
   "nbconvert_exporter": "python",
   "pygments_lexer": "ipython3",
   "version": "3.7.0"
  }
 },
 "nbformat": 4,
 "nbformat_minor": 2
}
