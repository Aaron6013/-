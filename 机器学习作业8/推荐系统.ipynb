{
 "cells": [
  {
   "cell_type": "markdown",
   "metadata": {},
   "source": [
    "## 吴恩达机器学习习题八：推荐系统<br><br>\n",
    "- 给用户推荐电影"
   ]
  },
  {
   "cell_type": "code",
   "execution_count": 1,
   "metadata": {},
   "outputs": [],
   "source": [
    "import numpy as np\n",
    "import matplotlib.pyplot as plt\n",
    "import scipy.io as sio\n",
    "from scipy.optimize import minimize"
   ]
  },
  {
   "cell_type": "code",
   "execution_count": 2,
   "metadata": {},
   "outputs": [
    {
     "name": "stdout",
     "output_type": "stream",
     "text": [
      "(943, 10)\n"
     ]
    }
   ],
   "source": [
    "data = sio.loadmat('./data/ex8_movies.mat')\n",
    "y = data['Y']  #(1682,943)\n",
    "R = data['R']  #(1682,943)\n",
    "pram_data = sio.loadmat('./data/ex8_movieParams.mat')\n",
    "X = pram_data['X']  #(1682,10)\n",
    "Theta = pram_data['Theta']  #(943,10)\n",
    "N_u = pram_data['num_users']  #943个用户\n",
    "N_m = pram_data['num_movies']  #1682部电影\n",
    "N_f = pram_data['num_features']  #10个特征\n",
    "N_u = int(N_u)\n",
    "N_m = int(N_m)\n",
    "N_f = int(N_f)\n",
    "print(Theta.shape)"
   ]
  },
  {
   "cell_type": "code",
   "execution_count": 3,
   "metadata": {},
   "outputs": [],
   "source": [
    "#序列化权重参数\n",
    "def serialize(X,Theta):\n",
    "    \n",
    "    return np.append(X.flatten(),Theta.flatten())"
   ]
  },
  {
   "cell_type": "code",
   "execution_count": 4,
   "metadata": {},
   "outputs": [],
   "source": [
    "#解序列化权重参数\n",
    "def deserialize(serialize1,N_m,N_u,N_f):\n",
    "    \n",
    "    X = serialize1[:N_m*N_f].reshape((N_m,N_f))\n",
    "    Theta = serialize1[N_m*N_f:].reshape((N_u,N_f))\n",
    "    return X,Theta"
   ]
  },
  {
   "cell_type": "code",
   "execution_count": 5,
   "metadata": {},
   "outputs": [],
   "source": [
    "#代价函数\n",
    "def cost_function(serialize1,y,R,N_m,N_u,N_f,lamda):\n",
    "    \n",
    "    X1,Theta1 = deserialize(serialize1,N_m,N_u,N_f)\n",
    "    first = np.sum(np.power((X1@Theta1.T - y)* R,2))\n",
    "    second = lamda*np.sum(np.power(X1,2))\n",
    "    third = lamda*np.sum(np.power(Theta1,2))\n",
    "    return 0.5*(first+second+third)"
   ]
  },
  {
   "cell_type": "code",
   "execution_count": 6,
   "metadata": {},
   "outputs": [
    {
     "data": {
      "text/plain": [
       "22.224603725685675"
      ]
     },
     "execution_count": 6,
     "metadata": {},
     "output_type": "execute_result"
    }
   ],
   "source": [
    "users = 4\n",
    "movies = 5\n",
    "features = 3\n",
    "X_sub = X[:movies,:features]\n",
    "Theta_sub = Theta[:users,:features]\n",
    "Y_sub = y[:movies,:users]\n",
    "R_sub = R[:movies,:users]\n",
    "cost1 = cost_function(serialize(X_sub,Theta_sub),Y_sub,R_sub,movies,users,features,lamda = 0)\n",
    "cost1"
   ]
  },
  {
   "cell_type": "code",
   "execution_count": 7,
   "metadata": {},
   "outputs": [],
   "source": [
    "#梯度向量\n",
    "def gradient(serialize1,y,R,N_m,N_u,N_f,lamda):\n",
    "    \n",
    "    X2,Theta2 = deserialize(serialize1,N_m,N_u,N_f)\n",
    "    reg1 = ((X2@Theta2.T-y)*R)@Theta2 +lamda * X2\n",
    "    reg2 = ((X2@Theta2.T-y)*R).T@X2 + lamda * Theta2\n",
    "    return serialize(reg1,reg2)"
   ]
  },
  {
   "cell_type": "code",
   "execution_count": 8,
   "metadata": {},
   "outputs": [],
   "source": [
    "#新增用户\n",
    "my_ratings = np.zeros((N_m,1))\n",
    "my_ratings[9]   = 5\n",
    "my_ratings[66]  = 5\n",
    "my_ratings[96]   = 5\n",
    "my_ratings[121]  = 4\n",
    "my_ratings[148]  = 4\n",
    "my_ratings[285]  = 3\n",
    "my_ratings[490]  = 4\n",
    "my_ratings[599]  = 4\n",
    "my_ratings[643] = 4\n",
    "my_ratings[958] = 5\n",
    "my_ratings[1117] = 3\n",
    "y = np.c_[y,my_ratings]  #(1682,944)\n",
    "R = np.c_[R,my_ratings!=0]  #(1682,944)\n",
    "N_m = y.shape[0]\n",
    "N_u = y.shape[1]"
   ]
  },
  {
   "cell_type": "code",
   "execution_count": 9,
   "metadata": {},
   "outputs": [],
   "source": [
    "#均值归一化\n",
    "def normalizeRatings(y,R):\n",
    "    \n",
    "    y_means =(y.sum(axis=1) / R.sum(axis=1)).reshape(-1,1)\n",
    "    y_norm = (y - y_means) * R\n",
    "    return y_norm,y_means"
   ]
  },
  {
   "cell_type": "code",
   "execution_count": 10,
   "metadata": {},
   "outputs": [],
   "source": [
    "y_norm,y_means = normalizeRatings(y,R)"
   ]
  },
  {
   "cell_type": "code",
   "execution_count": 11,
   "metadata": {},
   "outputs": [],
   "source": [
    "X = np.random.random((N_m,N_f))\n",
    "Theta = np.random.random((N_u,N_f))\n",
    "serialize1 = serialize(X,Theta)\n",
    "lamda = 10"
   ]
  },
  {
   "cell_type": "code",
   "execution_count": 12,
   "metadata": {},
   "outputs": [],
   "source": [
    "#优化函数\n",
    "result = minimize(fun = cost_function,\n",
    "        x0 = serialize1,\n",
    "        args = (y_norm,R,N_m,N_u,N_f,lamda),\n",
    "        method = 'TNC',\n",
    "        jac = gradient,\n",
    "        options = {'maxiter':100})"
   ]
  },
  {
   "cell_type": "code",
   "execution_count": 16,
   "metadata": {},
   "outputs": [
    {
     "name": "stdout",
     "output_type": "stream",
     "text": [
      "(1682,)\n"
     ]
    },
    {
     "data": {
      "text/plain": [
       "array([1535, 1466, 1598,  813, 1652, 1200, 1188, 1292, 1121, 1499],\n",
       "      dtype=int64)"
      ]
     },
     "execution_count": 16,
     "metadata": {},
     "output_type": "execute_result"
    }
   ],
   "source": [
    "best_serialize = result.x\n",
    "best_X,best_Theat = deserialize(best_serialize,N_m,N_u,N_f)\n",
    "y_predict = best_X @ best_Theat.T \n",
    "y_predict = y_predict[:,-1] + y_means.flatten()  #(1682,)\n",
    "index = np.argsort(-y_predict)  #最后一列为预测，将矩阵X排序（从大到小），并返回排序后的下标 \n",
    "index[:10]  "
   ]
  },
  {
   "cell_type": "code",
   "execution_count": 14,
   "metadata": {},
   "outputs": [],
   "source": [
    "movies = []\n",
    "with open('data/movie_ids.txt','r',encoding='latin 1') as f:\n",
    "    for line in f:\n",
    "        tokens = line.strip().split(' ')\n",
    "        movies.append(' '.join(tokens[1:]))"
   ]
  },
  {
   "cell_type": "code",
   "execution_count": 15,
   "metadata": {},
   "outputs": [
    {
     "name": "stdout",
     "output_type": "stream",
     "text": [
      "1535 Aiqing wansui (1994) 5.000885909802307\n",
      "1466 Saint of Fort Washington, The (1993) 5.0007512315622815\n",
      "1598 Someone Else's America (1995) 5.0004823725921135\n",
      "813 Great Day in Harlem, A (1994) 5.000424759721229\n",
      "1652 Entertaining Angels: The Dorothy Day Story (1996) 5.000331488391549\n",
      "1200 Marlene Dietrich: Shadow and Light (1996) 5.000111681472238\n",
      "1188 Prefontaine (1997) 5.000094411965996\n",
      "1292 Star Kid (1997) 4.999997635636663\n",
      "1121 They Made Me a Criminal (1939) 4.999890555928851\n",
      "1499 Santa with Muscles (1996) 4.999646626028243\n"
     ]
    }
   ],
   "source": [
    "for i in range(10):\n",
    "    print(index[i],movies[index[i]],y_predict[index[i]])  #index[i]返回列数"
   ]
  }
 ],
 "metadata": {
  "kernelspec": {
   "display_name": "Python 3",
   "language": "python",
   "name": "python3"
  },
  "language_info": {
   "codemirror_mode": {
    "name": "ipython",
    "version": 3
   },
   "file_extension": ".py",
   "mimetype": "text/x-python",
   "name": "python",
   "nbconvert_exporter": "python",
   "pygments_lexer": "ipython3",
   "version": "3.7.0"
  }
 },
 "nbformat": 4,
 "nbformat_minor": 2
}
